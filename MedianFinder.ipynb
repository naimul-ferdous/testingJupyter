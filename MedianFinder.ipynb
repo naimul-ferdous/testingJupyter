{
 "cells": [
  {
   "cell_type": "code",
   "execution_count": 1,
   "metadata": {},
   "outputs": [
    {
     "name": "stdout",
     "output_type": "stream",
     "text": [
      "1\n",
      "1\n",
      "1\n",
      "1\n",
      "1\n",
      "1\n",
      "1\n",
      "1\n",
      "1\n",
      "1\n",
      "1\n",
      "1\n",
      "1\n",
      "1\n"
     ]
    }
   ],
   "source": [
    "import heapq\n",
    "\n",
    "class MedianFinder:\n",
    "\n",
    "    def __init__(self):\n",
    "        self.min_heap= []\n",
    "        self.max_heap= []\n",
    "    \n",
    "    def add_num(self, num):\n",
    "        if len(self.min_heap) == 0:\n",
    "            self.max_heap.append(-num)\n",
    "            return\n",
    "\n",
    "        if len(self.min_heap) == 0:\n",
    "            if num < -self.max_heap[0]:\n",
    "                max_n= -heapq.heappop(self.max_heap)\n",
    "                heapq.heappush(self.max_heap, -num)\n",
    "                self.min_heap.append(max_n)\n",
    "            else:\n",
    "                self.min_heap.append(num)\n",
    "            return\n",
    "\n",
    "        if num<= self.min_heap[0]:\n",
    "            if len(self.max_heap) <= len(self.min_heap):\n",
    "                heapq.heappush(self.max_heap, -num)\n",
    "            else:\n",
    "                if num >=-self.max_heap[0]:\n",
    "                    heapq.heappush(self.min_heap, num)\n",
    "                else:\n",
    "                    max_n= -heapq.heappop(self.max_heap)\n",
    "                    heapq.heappush(self.max_heap, -num)\n",
    "                    heapq.heappush(self.min_heap, max_n)\n",
    "        else:\n",
    "            if len(self.max_heap) >= len(self.min_heap):\n",
    "                heapq.heappush(self.min_heap, num)\n",
    "            else:\n",
    "                min_n= heapq.heappop(self.min_heap)\n",
    "                heapq.heappush(self.min_heap, num)\n",
    "                heapq.heappush(self.max_heap, -min_n)\n",
    "    \n",
    "    def find_median(self):\n",
    "        if len(self.max_heap) == len(self.min_heap):\n",
    "            return (-self.max_heap[0] + self.min_heap[0])/2\n",
    "        if len(self.max_heap) > len(self.min_heap):\n",
    "            return -self.max_heap[0]\n",
    "        return self.min_heap[0]\n",
    "\n",
    "\n",
    "if __name__ == \"__main__\":\n",
    "    mf= MedianFinder()\n",
    "\n",
    "    for num in [1, 3, 2, 6, 7, 4, 5, 9, 10]:\n",
    "        mf.add_num(num)\n",
    "        print(mf.find_median())\n",
    "\n",
    "    for num in [-1, -2, -3, -4, -5]:\n",
    "        mf.add_num(num)\n",
    "        print(mf.find_median())"
   ]
  },
  {
   "cell_type": "code",
   "execution_count": null,
   "metadata": {},
   "outputs": [],
   "source": []
  }
 ],
 "metadata": {
  "kernelspec": {
   "display_name": "Python 2",
   "language": "python",
   "name": "python2"
  },
  "language_info": {
   "codemirror_mode": {
    "name": "ipython",
    "version": 2
   },
   "file_extension": ".py",
   "mimetype": "text/x-python",
   "name": "python",
   "nbconvert_exporter": "python",
   "pygments_lexer": "ipython2",
   "version": "2.7.16"
  }
 },
 "nbformat": 4,
 "nbformat_minor": 4
}
